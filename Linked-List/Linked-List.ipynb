{
 "cells": [
  {
   "cell_type": "markdown",
   "metadata": {},
   "source": [
    "### Implement a Standard Singly LinkedList\n",
    "\n",
    "### Requirements:\n",
    "- **Use a `dummyHead` node**\n",
    "\n",
    "\n",
    "### Operations:\n",
    "  - **`addFirst(Node newNode)`**: Adds a node to the beginning of the list in **O(1)** time.\n",
    "  \n",
    "  - **`addLast(Node newNode)`**: Adds a node to the end of the list in **O(1)** time.  \n",
    "    *(Hint: Keep track of the last node.)*\n",
    "\n",
    "  - **`search(int val)`**: Searches for a node with the specified value in **O(n)** time.\n",
    "\n",
    "  - **`remove(int val)`**: Removes the first node with the specified value in **O(n)** time.  \n",
    "    *(If multiple nodes have the same value, remove the first one found.)*\n",
    "\n",
    "  - **`removeLast()`**: Removes the last node in **O(1)** time.\n",
    "\n",
    "  - **`removeFirst()`**: Removes the first node in **O(1)** time.\n",
    "  \n",
    "  - **`getSize()`**: Returns the size of the linked list in **O(1)** time.\n"
   ]
  },
  {
   "cell_type": "code",
   "execution_count": 18,
   "metadata": {},
   "outputs": [],
   "source": [
    "class ListNode():\n",
    "    def __init__(self, val = 0, next = None) -> None:\n",
    "        self.val = None\n",
    "        self.next = next"
   ]
  },
  {
   "cell_type": "markdown",
   "metadata": {},
   "source": [
    "**`addFirst(Node newNode)`**: Adds a node to the beginning of the list in **O(1)** time"
   ]
  },
  {
   "cell_type": "code",
   "execution_count": 58,
   "metadata": {},
   "outputs": [
    {
     "name": "stdout",
     "output_type": "stream",
     "text": [
      "None\n"
     ]
    }
   ],
   "source": [
    "class LinkedList():\n",
    "    def __init__(self) -> None:\n",
    "        self.head = None \n",
    "        self.size = 0\n",
    "    \n",
    "    # def insert_at_begin(self, val):\n",
    "    #     self.head = ListNode(val, self.head)\n",
    "    #     self.size +=1\n",
    "    \n",
    "    def insert_at_end(self, val):\n",
    "        dummy = ListNode(next = self.head)\n",
    "        cur = dummy\n",
    "\n",
    "        while cur.next:\n",
    "            cur = cur.next \n",
    "        \n",
    "        cur.next = ListNode(val, None)\n",
    "        \n",
    "    \n",
    "    def print(self):\n",
    "        cur = self.head \n",
    "\n",
    "        strl = \"\"\n",
    "        while cur:\n",
    "            strl += (str(cur.val) + \"-->\")\n",
    "            cur = cur.next\n",
    "        strl += \"None\"\n",
    "        print(strl)\n",
    "        \n",
    "\n",
    "\n",
    "def main():\n",
    "    ll = LinkedList()\n",
    "    # ll.insert_at_begin(5)\n",
    "    ll.insert_at_end(4)\n",
    "    ll.print()\n",
    "\n",
    "if __name__ == \"__main__\":\n",
    "    main()"
   ]
  }
 ],
 "metadata": {
  "kernelspec": {
   "display_name": "base",
   "language": "python",
   "name": "python3"
  },
  "language_info": {
   "codemirror_mode": {
    "name": "ipython",
    "version": 3
   },
   "file_extension": ".py",
   "mimetype": "text/x-python",
   "name": "python",
   "nbconvert_exporter": "python",
   "pygments_lexer": "ipython3",
   "version": "3.11.5"
  }
 },
 "nbformat": 4,
 "nbformat_minor": 2
}
